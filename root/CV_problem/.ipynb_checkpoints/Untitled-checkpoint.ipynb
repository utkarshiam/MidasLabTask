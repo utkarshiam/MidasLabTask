{
 "cells": [
  {
   "cell_type": "markdown",
   "metadata": {},
   "source": [
    "# Problem 3: CV Problem"
   ]
  },
  {
   "cell_type": "markdown",
   "metadata": {},
   "source": [
    "#### Importing Libraries\n",
    " \n",
    " - Keras and Tensorflow for building deep neural networks\n",
    " - Pandas for data manipulation\n",
    " - Numpy for mathematical operations\n",
    " - sklearn for getting different metrics of a trained model\n",
    " - pickle to load trained model"
   ]
  },
  {
   "cell_type": "code",
   "execution_count": 47,
   "metadata": {
    "collapsed": false
   },
   "outputs": [],
   "source": [
    "import pickle\n",
    "import numpy as np\n",
    "import matplotlib.pyplot as plt\n",
    "import keras\n",
    "from sklearn.cross_validation import train_test_split\n",
    "from keras.models import Sequential\n",
    "from keras.layers import Dense\n",
    "from keras.layers import Conv2D\n",
    "from keras.layers import MaxPool2D\n",
    "from keras.layers import Flatten\n",
    "from keras.layers import Dropout\n",
    "from sklearn.preprocessing import OneHotEncoder\n",
    "from sklearn.metrics import accuracy_score\n",
    "from keras.optimizers import SGD\n",
    "from keras.preprocessing.image import ImageDataGenerator"
   ]
  },
  {
   "cell_type": "markdown",
   "metadata": {},
   "source": [
    "#### Loading files(training images and labels) using pickle"
   ]
  },
  {
   "cell_type": "code",
   "execution_count": 7,
   "metadata": {
    "collapsed": false
   },
   "outputs": [],
   "source": [
    "with open('train_image.pkl','rb') as file:\n",
    "    train_image = pickle.load(file)\n",
    "    train_image = np.array(train_image)\n",
    "    file.close()\n",
    "\n",
    "with open('train_label.pkl','rb') as file:\n",
    "    train_label = pickle.load(file)\n",
    "    train_label = np.array(train_label)\n",
    "    file.close()"
   ]
  },
  {
   "cell_type": "markdown",
   "metadata": {},
   "source": [
    "#### Preparing Data"
   ]
  },
  {
   "cell_type": "code",
   "execution_count": 8,
   "metadata": {
    "collapsed": true
   },
   "outputs": [],
   "source": [
    "classes = np.unique(train_label)\n",
    "IMG_SIZE = 28\n",
    "def prepareData(images, labels):\n",
    "    Y = []\n",
    "    X = (np.array(images).reshape(-1,IMG_SIZE,IMG_SIZE,1))/255\n",
    "    for l in labels:\n",
    "        Y.append([int(classes[i]==l) for i in range(4)])\n",
    "    return X,np.array(Y)\n",
    "\n",
    "X,Y = prepareData(train_image, train_label)"
   ]
  },
  {
   "cell_type": "markdown",
   "metadata": {},
   "source": [
    "## Plotting And Visualizing the Images"
   ]
  },
  {
   "cell_type": "code",
   "execution_count": 9,
   "metadata": {
    "collapsed": false
   },
   "outputs": [
    {
     "data": {
      "image/png": "[encoded data removed]",
      "text/plain": [
       "<Figure size 864x576 with 6 Axes>"
      ]
     },
     "metadata": {
      "needs_background": "light"
     },
     "output_type": "display_data"
    }
   ],
   "source": [
    "fig = plt.figure(figsize=(12, 8))\n",
    "columns = 3\n",
    "rows = 2\n",
    "for i in range(1, columns*rows +1):\n",
    "    rnd = np.random.randint(0,8000)\n",
    "    img,lbl = X[rnd].reshape(IMG_SIZE,IMG_SIZE),Y[rnd]\n",
    "    fig.add_subplot(rows,columns,i)\n",
    "    plt.imshow(img,cmap='gray')\n",
    "    plt.title(classes[np.argmax(lbl)])\n",
    "plt.show()"
   ]
  },
  {
   "cell_type": "markdown",
   "metadata": {},
   "source": [
    "#### Splitting the Data into Train And Test"
   ]
  },
  {
   "cell_type": "code",
   "execution_count": 10,
   "metadata": {
    "collapsed": true
   },
   "outputs": [],
   "source": [
    "xtrain, xtest, ytrain, ytest = train_test_split(X,Y,test_size=0.20,random_state=0)"
   ]
  },
  {
   "cell_type": "markdown",
   "metadata": {},
   "source": [
    "## Plot For Model Accuracy \n",
    "\n",
    " - Plotting Accuracy -: x-axis (Epoch)\n",
    " - Plotting Accuracy -: y-axis (Accuracy)\n",
    "    \n",
    "## Plot For Summarizing History of Loss\n",
    "\n",
    " - Plotting Loss -: x-axis (Epoch)\n",
    " - Plotting Loss -: y-axis (Loss) "
   ]
  },
  {
   "cell_type": "code",
   "execution_count": 11,
   "metadata": {
    "collapsed": true
   },
   "outputs": [],
   "source": [
    "def plotHistory(history):\n",
    "    # summarize history for accuracy\n",
    "    fig = plt.figure(figsize=(10,5))\n",
    "\n",
    "    fig.add_subplot(1,2,1)\n",
    "    plt.plot(history.history['acc'])\n",
    "    plt.plot(history.history['val_acc'])\n",
    "    plt.title('model accuracy')\n",
    "    plt.ylabel('accuracy')\n",
    "    plt.xlabel('epoch')\n",
    "    plt.legend(['train', 'val'], loc='upper left')\n",
    "\n",
    "\n",
    "    # summarize history for loss\n",
    "    fig.add_subplot(1,2,2)\n",
    "    plt.plot(history.history['loss'])\n",
    "    plt.plot(history.history['val_loss'])\n",
    "    plt.title('model loss')\n",
    "    plt.ylabel('loss')\n",
    "    plt.xlabel('epoch')\n",
    "    plt.legend(['train', 'val'], loc='upper left')\n",
    "\n",
    "\n",
    "    plt.show()"
   ]
  },
  {
   "cell_type": "markdown",
   "metadata": {},
   "source": [
    "# Building Model\n",
    "\n",
    " - Loss: CrossEntropy\n",
    " - Hidden Layers: 2NN\n",
    " - Optimizer: adam  \n",
    " - Softmax.\n",
    " \n",
    " "
   ]
  },
  {
   "cell_type": "code",
   "execution_count": 21,
   "metadata": {
    "collapsed": false
   },
   "outputs": [
    {
     "name": "stdout",
     "output_type": "stream",
     "text": [
      "_________________________________________________________________\n",
      "Layer (type)                 Output Shape              Param #   \n",
      "=================================================================\n",
      "conv2d_7 (Conv2D)            (None, 28, 28, 32)        320       \n",
      "_________________________________________________________________\n",
      "max_pooling2d_7 (MaxPooling2 (None, 14, 14, 32)        0         \n",
      "_________________________________________________________________\n",
      "flatten_7 (Flatten)          (None, 6272)              0         \n",
      "_________________________________________________________________\n",
      "dense_13 (Dense)             (None, 128)               802944    \n",
      "_________________________________________________________________\n",
      "dense_14 (Dense)             (None, 4)                 516       \n",
      "=================================================================\n",
      "Total params: 803,780\n",
      "Trainable params: 803,780\n",
      "Non-trainable params: 0\n",
      "_________________________________________________________________\n"
     ]
    }
   ],
   "source": [
    "# MODEL ARCHITECTURE\n",
    "\n",
    "clf1 = Sequential()\n",
    "\n",
    "clf1.add(keras.layers.Conv2D(filters = 32, kernel_size = (3,3),padding = 'Same',activation ='relu', input_shape = (IMG_SIZE,IMG_SIZE,1)))\n",
    "clf1.add(keras.layers.MaxPooling2D(pool_size=(2,2)))\n",
    "\n",
    "clf1.add(keras.layers.Flatten())\n",
    "\n",
    "clf1.add(Dense(units=128,activation='relu'))\n",
    "clf1.add(Dense(units=4,activation='sigmoid'))\n",
    "\n",
    "\n",
    "clf1.compile(optimizer='adam',loss='categorical_crossentropy',metrics=['accuracy'])\n",
    "clf1.summary()"
   ]
  },
  {
   "cell_type": "code",
   "execution_count": 22,
   "metadata": {
    "collapsed": false
   },
   "outputs": [
    {
     "name": "stdout",
     "output_type": "stream",
     "text": [
      "Train on 5760 samples, validate on 640 samples\n",
      "Epoch 1/50\n",
      "5760/5760 [==============================] - 5s 900us/step - loss: 0.6842 - acc: 0.7363 - val_loss: 0.5374 - val_acc: 0.7922\n",
      "Epoch 2/50\n",
      "5760/5760 [==============================] - 4s 675us/step - loss: 0.4764 - acc: 0.8153 - val_loss: 0.4611 - val_acc: 0.8172\n",
      "Epoch 3/50\n",
      "5760/5760 [==============================] - 4s 669us/step - loss: 0.4118 - acc: 0.8415 - val_loss: 0.4290 - val_acc: 0.8281\n",
      "Epoch 4/50\n",
      "5760/5760 [==============================] - 4s 647us/step - loss: 0.3751 - acc: 0.8599 - val_loss: 0.4216 - val_acc: 0.8469\n",
      "Epoch 5/50\n",
      "5760/5760 [==============================] - 4s 699us/step - loss: 0.3510 - acc: 0.8644 - val_loss: 0.3943 - val_acc: 0.8688\n",
      "Epoch 6/50\n",
      "5760/5760 [==============================] - 4s 646us/step - loss: 0.3337 - acc: 0.8700 - val_loss: 0.4047 - val_acc: 0.8562\n",
      "Epoch 7/50\n",
      "5760/5760 [==============================] - 4s 680us/step - loss: 0.3119 - acc: 0.8806 - val_loss: 0.3851 - val_acc: 0.8562\n",
      "Epoch 8/50\n",
      "5760/5760 [==============================] - 4s 662us/step - loss: 0.2892 - acc: 0.8896 - val_loss: 0.3907 - val_acc: 0.8625\n",
      "Epoch 9/50\n",
      "5760/5760 [==============================] - 4s 717us/step - loss: 0.2741 - acc: 0.9000 - val_loss: 0.3952 - val_acc: 0.8672\n",
      "Epoch 10/50\n",
      "5760/5760 [==============================] - 4s 670us/step - loss: 0.2707 - acc: 0.8967 - val_loss: 0.3743 - val_acc: 0.8609\n",
      "Epoch 11/50\n",
      "5760/5760 [==============================] - 4s 650us/step - loss: 0.2445 - acc: 0.9068 - val_loss: 0.3469 - val_acc: 0.8781\n",
      "Epoch 12/50\n",
      "5760/5760 [==============================] - 4s 734us/step - loss: 0.2353 - acc: 0.9128 - val_loss: 0.3741 - val_acc: 0.8641\n",
      "Epoch 13/50\n",
      "5760/5760 [==============================] - 4s 656us/step - loss: 0.2252 - acc: 0.9184 - val_loss: 0.3408 - val_acc: 0.8828\n",
      "Epoch 14/50\n",
      "5760/5760 [==============================] - 4s 703us/step - loss: 0.2138 - acc: 0.9207 - val_loss: 0.3446 - val_acc: 0.8875\n",
      "Epoch 15/50\n",
      "5760/5760 [==============================] - 4s 772us/step - loss: 0.1912 - acc: 0.9309 - val_loss: 0.3423 - val_acc: 0.8828\n",
      "Epoch 16/50\n",
      "5760/5760 [==============================] - 4s 753us/step - loss: 0.1871 - acc: 0.9354 - val_loss: 0.3481 - val_acc: 0.8781\n",
      "Epoch 17/50\n",
      "5760/5760 [==============================] - 4s 672us/step - loss: 0.1767 - acc: 0.9366 - val_loss: 0.3586 - val_acc: 0.8828\n",
      "Epoch 18/50\n",
      "5760/5760 [==============================] - 4s 661us/step - loss: 0.1591 - acc: 0.9476 - val_loss: 0.3599 - val_acc: 0.8844\n",
      "Epoch 19/50\n",
      "5760/5760 [==============================] - 4s 675us/step - loss: 0.1471 - acc: 0.9509 - val_loss: 0.3530 - val_acc: 0.8875\n",
      "Epoch 20/50\n",
      "5760/5760 [==============================] - 4s 705us/step - loss: 0.1360 - acc: 0.9561 - val_loss: 0.3550 - val_acc: 0.8828\n",
      "Epoch 21/50\n",
      "5760/5760 [==============================] - 4s 707us/step - loss: 0.1304 - acc: 0.9576 - val_loss: 0.3767 - val_acc: 0.8781\n",
      "Epoch 22/50\n",
      "5760/5760 [==============================] - 4s 746us/step - loss: 0.1171 - acc: 0.9653 - val_loss: 0.3616 - val_acc: 0.8766\n",
      "Epoch 23/50\n",
      "5760/5760 [==============================] - 5s 870us/step - loss: 0.1055 - acc: 0.9694 - val_loss: 0.3669 - val_acc: 0.8828\n",
      "Epoch 24/50\n",
      "5760/5760 [==============================] - 4s 705us/step - loss: 0.0982 - acc: 0.9707 - val_loss: 0.3860 - val_acc: 0.8875\n",
      "Epoch 25/50\n",
      "5760/5760 [==============================] - 5s 899us/step - loss: 0.0924 - acc: 0.9733 - val_loss: 0.3772 - val_acc: 0.8922\n",
      "Epoch 26/50\n",
      "5760/5760 [==============================] - 4s 780us/step - loss: 0.0799 - acc: 0.9813 - val_loss: 0.3958 - val_acc: 0.8844\n",
      "Epoch 27/50\n",
      "5760/5760 [==============================] - 4s 674us/step - loss: 0.0814 - acc: 0.9776 - val_loss: 0.4036 - val_acc: 0.8891\n",
      "Epoch 28/50\n",
      "5760/5760 [==============================] - 5s 827us/step - loss: 0.0702 - acc: 0.9828 - val_loss: 0.4123 - val_acc: 0.8859\n",
      "Epoch 29/50\n",
      "5760/5760 [==============================] - 5s 850us/step - loss: 0.0710 - acc: 0.9802 - val_loss: 0.4131 - val_acc: 0.8781\n",
      "Epoch 30/50\n",
      "5760/5760 [==============================] - 5s 789us/step - loss: 0.0656 - acc: 0.9842 - val_loss: 0.4207 - val_acc: 0.8891\n",
      "Epoch 31/50\n",
      "5760/5760 [==============================] - 5s 937us/step - loss: 0.0573 - acc: 0.9875 - val_loss: 0.4682 - val_acc: 0.8812\n",
      "Epoch 32/50\n",
      "5760/5760 [==============================] - 5s 806us/step - loss: 0.0526 - acc: 0.9870 - val_loss: 0.4703 - val_acc: 0.8719\n",
      "Epoch 33/50\n",
      "5760/5760 [==============================] - 4s 672us/step - loss: 0.0460 - acc: 0.9910 - val_loss: 0.4558 - val_acc: 0.8766\n",
      "Epoch 34/50\n",
      "5760/5760 [==============================] - 4s 703us/step - loss: 0.0409 - acc: 0.9922 - val_loss: 0.4652 - val_acc: 0.8766\n",
      "Epoch 35/50\n",
      "5760/5760 [==============================] - 4s 675us/step - loss: 0.0362 - acc: 0.9946 - val_loss: 0.5196 - val_acc: 0.8641\n",
      "Epoch 36/50\n",
      "5760/5760 [==============================] - 5s 926us/step - loss: 0.0393 - acc: 0.9932 - val_loss: 0.4889 - val_acc: 0.8750\n",
      "Epoch 37/50\n",
      "5760/5760 [==============================] - 5s 843us/step - loss: 0.0326 - acc: 0.9941 - val_loss: 0.4718 - val_acc: 0.8891\n",
      "Epoch 38/50\n",
      "5760/5760 [==============================] - 5s 860us/step - loss: 0.0286 - acc: 0.9957 - val_loss: 0.4788 - val_acc: 0.8828\n",
      "Epoch 39/50\n",
      "5760/5760 [==============================] - 4s 769us/step - loss: 0.0252 - acc: 0.9967 - val_loss: 0.4769 - val_acc: 0.8938\n",
      "Epoch 40/50\n",
      "5760/5760 [==============================] - 4s 657us/step - loss: 0.0223 - acc: 0.9976 - val_loss: 0.4952 - val_acc: 0.8781\n",
      "Epoch 41/50\n",
      "5760/5760 [==============================] - 4s 701us/step - loss: 0.0210 - acc: 0.9988 - val_loss: 0.4987 - val_acc: 0.8844\n",
      "Epoch 42/50\n",
      "5760/5760 [==============================] - 4s 692us/step - loss: 0.0208 - acc: 0.9979 - val_loss: 0.5053 - val_acc: 0.8875\n",
      "Epoch 43/50\n",
      "5760/5760 [==============================] - 4s 667us/step - loss: 0.0189 - acc: 0.9990 - val_loss: 0.5208 - val_acc: 0.8812\n",
      "Epoch 44/50\n",
      "5760/5760 [==============================] - 4s 680us/step - loss: 0.0154 - acc: 0.9997 - val_loss: 0.5141 - val_acc: 0.8875\n",
      "Epoch 45/50\n",
      "5760/5760 [==============================] - 4s 683us/step - loss: 0.0141 - acc: 0.9997 - val_loss: 0.5343 - val_acc: 0.8891\n",
      "Epoch 46/50\n",
      "5760/5760 [==============================] - 4s 688us/step - loss: 0.0130 - acc: 0.9995 - val_loss: 0.5443 - val_acc: 0.8922\n",
      "Epoch 47/50\n",
      "5760/5760 [==============================] - 4s 665us/step - loss: 0.0122 - acc: 0.9995 - val_loss: 0.5553 - val_acc: 0.8812\n",
      "Epoch 48/50\n",
      "5760/5760 [==============================] - 4s 660us/step - loss: 0.0114 - acc: 1.0000 - val_loss: 0.5404 - val_acc: 0.8812\n",
      "Epoch 49/50\n",
      "5760/5760 [==============================] - 4s 690us/step - loss: 0.0103 - acc: 0.9998 - val_loss: 0.5591 - val_acc: 0.8844\n",
      "Epoch 50/50\n",
      "5760/5760 [==============================] - 4s 701us/step - loss: 0.0100 - acc: 0.9998 - val_loss: 0.5654 - val_acc: 0.8828\n"
     ]
    }
   ],
   "source": [
    "history1 = clf1.fit(xtrain,ytrain,epochs=50,batch_size=128,validation_split=0.1)"
   ]
  },
  {
   "cell_type": "markdown",
   "metadata": {},
   "source": [
    "# Plotting the Accuracy Of the model"
   ]
  },
  {
   "cell_type": "code",
   "execution_count": 25,
   "metadata": {
    "collapsed": false
   },
   "outputs": [
    {
     "data": {
      "image/png": "[encoded data removed]",
      "text/plain": [
       "<Figure size 720x360 with 2 Axes>"
      ]
     },
     "metadata": {
      "needs_background": "light"
     },
     "output_type": "display_data"
    },
    {
     "name": "stdout",
     "output_type": "stream",
     "text": [
      "1600/1600 [==============================] - 0s 279us/step\n",
      "Test Accuracy:  0.868125\n"
     ]
    }
   ],
   "source": [
    "plotHistory(history1)\n",
    "testLoss2, testAccuracy2 = clf1.evaluate(xtest,ytest)\n",
    "print(\"Test Accuracy: \", testAccuracy2)"
   ]
  },
  {
   "cell_type": "markdown",
   "metadata": {},
   "source": [
    "# Model-2 With Dropouts/Batch Normalization"
   ]
  },
  {
   "cell_type": "code",
   "execution_count": 27,
   "metadata": {
    "collapsed": false
   },
   "outputs": [
    {
     "name": "stdout",
     "output_type": "stream",
     "text": [
      "_________________________________________________________________\n",
      "Layer (type)                 Output Shape              Param #   \n",
      "=================================================================\n",
      "conv2d_12 (Conv2D)           (None, 28, 28, 32)        320       \n",
      "_________________________________________________________________\n",
      "batch_normalization_7 (Batch (None, 28, 28, 32)        128       \n",
      "_________________________________________________________________\n",
      "conv2d_13 (Conv2D)           (None, 28, 28, 32)        9248      \n",
      "_________________________________________________________________\n",
      "batch_normalization_8 (Batch (None, 28, 28, 32)        128       \n",
      "_________________________________________________________________\n",
      "max_pooling2d_10 (MaxPooling (None, 14, 14, 32)        0         \n",
      "_________________________________________________________________\n",
      "dropout_6 (Dropout)          (None, 14, 14, 32)        0         \n",
      "_________________________________________________________________\n",
      "conv2d_14 (Conv2D)           (None, 14, 14, 64)        18496     \n",
      "_________________________________________________________________\n",
      "batch_normalization_9 (Batch (None, 14, 14, 64)        256       \n",
      "_________________________________________________________________\n",
      "dropout_7 (Dropout)          (None, 14, 14, 64)        0         \n",
      "_________________________________________________________________\n",
      "conv2d_15 (Conv2D)           (None, 14, 14, 128)       73856     \n",
      "_________________________________________________________________\n",
      "batch_normalization_10 (Batc (None, 14, 14, 128)       512       \n",
      "_________________________________________________________________\n",
      "max_pooling2d_11 (MaxPooling (None, 7, 7, 128)         0         \n",
      "_________________________________________________________________\n",
      "dropout_8 (Dropout)          (None, 7, 7, 128)         0         \n",
      "_________________________________________________________________\n",
      "flatten_9 (Flatten)          (None, 6272)              0         \n",
      "_________________________________________________________________\n",
      "dense_18 (Dense)             (None, 512)               3211776   \n",
      "_________________________________________________________________\n",
      "batch_normalization_11 (Batc (None, 512)               2048      \n",
      "_________________________________________________________________\n",
      "dropout_9 (Dropout)          (None, 512)               0         \n",
      "_________________________________________________________________\n",
      "dense_19 (Dense)             (None, 64)                32832     \n",
      "_________________________________________________________________\n",
      "batch_normalization_12 (Batc (None, 64)                256       \n",
      "_________________________________________________________________\n",
      "dropout_10 (Dropout)         (None, 64)                0         \n",
      "_________________________________________________________________\n",
      "dense_20 (Dense)             (None, 4)                 260       \n",
      "=================================================================\n",
      "Total params: 3,350,116\n",
      "Trainable params: 3,348,452\n",
      "Non-trainable params: 1,664\n",
      "_________________________________________________________________\n"
     ]
    }
   ],
   "source": [
    "clf3 = Sequential()\n",
    "\n",
    "clf3.add(keras.layers.Conv2D(filters = 32, kernel_size = (3,3),padding = 'Same',activation ='relu', input_shape = (IMG_SIZE,IMG_SIZE,1)))\n",
    "clf3.add(keras.layers.BatchNormalization())\n",
    "\n",
    "clf3.add(keras.layers.Conv2D(filters = 32, kernel_size = (3,3),padding = 'Same',activation ='relu'))\n",
    "clf3.add(keras.layers.BatchNormalization())\n",
    "clf3.add(keras.layers.MaxPooling2D(pool_size=(2,2)))\n",
    "clf3.add(keras.layers.Dropout(0.5))\n",
    "\n",
    "\n",
    "clf3.add(keras.layers.Conv2D(filters = 64, kernel_size = (3,3),padding = 'Same',activation ='relu'))\n",
    "clf3.add(keras.layers.BatchNormalization())\n",
    "clf3.add(keras.layers.Dropout(0.5))\n",
    "    \n",
    "clf3.add(keras.layers.Conv2D(filters = 128, kernel_size = (3,3),padding = 'Same',activation ='relu'))\n",
    "clf3.add(keras.layers.BatchNormalization())\n",
    "clf3.add(keras.layers.MaxPooling2D(pool_size=(2,2)))\n",
    "clf3.add(keras.layers.Dropout(0.5))\n",
    "\n",
    "clf3.add(keras.layers.Flatten())\n",
    "\n",
    "clf3.add(Dense(units=512,activation='relu'))\n",
    "clf3.add(keras.layers.BatchNormalization())\n",
    "clf3.add(keras.layers.Dropout(0.5))\n",
    "\n",
    "\n",
    "clf3.add(Dense(units=64,activation='relu'))\n",
    "clf3.add(keras.layers.BatchNormalization())\n",
    "clf3.add(keras.layers.Dropout(0.5))\n",
    "\n",
    "clf3.add(Dense(units=4,activation='sigmoid'))\n",
    "\n",
    "\n",
    "clf3.compile(optimizer='adam',loss='categorical_crossentropy',metrics=['accuracy'])\n",
    "clf3.summary()"
   ]
  },
  {
   "cell_type": "markdown",
   "metadata": {},
   "source": [
    "#### Traing On Above Model"
   ]
  },
  {
   "cell_type": "code",
   "execution_count": 28,
   "metadata": {
    "collapsed": false
   },
   "outputs": [
    {
     "name": "stdout",
     "output_type": "stream",
     "text": [
      "Train on 5760 samples, validate on 640 samples\n",
      "Epoch 1/50\n",
      "5760/5760 [==============================] - 64s 11ms/step - loss: 0.9843 - acc: 0.6073 - val_loss: 0.7278 - val_acc: 0.6719\n",
      "Epoch 2/50\n",
      "5760/5760 [==============================] - 67s 12ms/step - loss: 0.7520 - acc: 0.6908 - val_loss: 0.6527 - val_acc: 0.6766\n",
      "Epoch 3/50\n",
      "5760/5760 [==============================] - 61s 11ms/step - loss: 0.6700 - acc: 0.7113 - val_loss: 0.5876 - val_acc: 0.6906\n",
      "Epoch 4/50\n",
      "5760/5760 [==============================] - 62s 11ms/step - loss: 0.6172 - acc: 0.7372 - val_loss: 0.5432 - val_acc: 0.6984\n",
      "Epoch 5/50\n",
      "5760/5760 [==============================] - 62s 11ms/step - loss: 0.5850 - acc: 0.7490 - val_loss: 0.5503 - val_acc: 0.7297\n",
      "Epoch 6/50\n",
      "5760/5760 [==============================] - 65s 11ms/step - loss: 0.5574 - acc: 0.7575 - val_loss: 0.5317 - val_acc: 0.7422\n",
      "Epoch 7/50\n",
      "5760/5760 [==============================] - 64s 11ms/step - loss: 0.5329 - acc: 0.7642 - val_loss: 0.5518 - val_acc: 0.7766\n",
      "Epoch 8/50\n",
      "5760/5760 [==============================] - 60s 10ms/step - loss: 0.5116 - acc: 0.7741 - val_loss: 0.5037 - val_acc: 0.7688\n",
      "Epoch 9/50\n",
      "5760/5760 [==============================] - 70s 12ms/step - loss: 0.4985 - acc: 0.7842 - val_loss: 0.4921 - val_acc: 0.8078\n",
      "Epoch 10/50\n",
      "5760/5760 [==============================] - 71s 12ms/step - loss: 0.4825 - acc: 0.7885 - val_loss: 0.4896 - val_acc: 0.8250\n",
      "Epoch 11/50\n",
      "5760/5760 [==============================] - 72s 12ms/step - loss: 0.4568 - acc: 0.8118 - val_loss: 0.5720 - val_acc: 0.8266\n",
      "Epoch 12/50\n",
      "5760/5760 [==============================] - 71s 12ms/step - loss: 0.4547 - acc: 0.8280 - val_loss: 0.4142 - val_acc: 0.8516\n",
      "Epoch 13/50\n",
      "5760/5760 [==============================] - 72s 12ms/step - loss: 0.4155 - acc: 0.8432 - val_loss: 0.4185 - val_acc: 0.8500\n",
      "Epoch 14/50\n",
      "5760/5760 [==============================] - 77s 13ms/step - loss: 0.3968 - acc: 0.8472 - val_loss: 0.3792 - val_acc: 0.8453\n",
      "Epoch 15/50\n",
      "5760/5760 [==============================] - 71s 12ms/step - loss: 0.3968 - acc: 0.8451 - val_loss: 0.3762 - val_acc: 0.8484\n",
      "Epoch 16/50\n",
      "5760/5760 [==============================] - 71s 12ms/step - loss: 0.3861 - acc: 0.8524 - val_loss: 0.4933 - val_acc: 0.8141\n",
      "Epoch 17/50\n",
      "5760/5760 [==============================] - 75s 13ms/step - loss: 0.3599 - acc: 0.8632 - val_loss: 0.4066 - val_acc: 0.8594\n",
      "Epoch 18/50\n",
      "5760/5760 [==============================] - 72s 13ms/step - loss: 0.3635 - acc: 0.8620 - val_loss: 0.3978 - val_acc: 0.8547\n",
      "Epoch 19/50\n",
      "5760/5760 [==============================] - 65s 11ms/step - loss: 0.3595 - acc: 0.8651 - val_loss: 0.3859 - val_acc: 0.8578\n",
      "Epoch 20/50\n",
      "5760/5760 [==============================] - 69s 12ms/step - loss: 0.3493 - acc: 0.8719 - val_loss: 0.4830 - val_acc: 0.8406\n",
      "Epoch 21/50\n",
      "5760/5760 [==============================] - 64s 11ms/step - loss: 0.3436 - acc: 0.8752 - val_loss: 0.3949 - val_acc: 0.8688\n",
      "Epoch 22/50\n",
      "5760/5760 [==============================] - 63s 11ms/step - loss: 0.3334 - acc: 0.8674 - val_loss: 0.3847 - val_acc: 0.8703\n",
      "Epoch 23/50\n",
      "5760/5760 [==============================] - 65s 11ms/step - loss: 0.3379 - acc: 0.8741 - val_loss: 0.3494 - val_acc: 0.8688\n",
      "Epoch 24/50\n",
      "5760/5760 [==============================] - 72s 13ms/step - loss: 0.3112 - acc: 0.8814 - val_loss: 0.4490 - val_acc: 0.8531\n",
      "Epoch 25/50\n",
      "5760/5760 [==============================] - 66s 12ms/step - loss: 0.3081 - acc: 0.8806 - val_loss: 0.3890 - val_acc: 0.8703\n",
      "Epoch 26/50\n",
      "5760/5760 [==============================] - 64s 11ms/step - loss: 0.3077 - acc: 0.8835 - val_loss: 0.3682 - val_acc: 0.8641\n",
      "Epoch 27/50\n",
      "5760/5760 [==============================] - 60s 10ms/step - loss: 0.3035 - acc: 0.8797 - val_loss: 0.3474 - val_acc: 0.8750\n",
      "Epoch 28/50\n",
      "5760/5760 [==============================] - 60s 10ms/step - loss: 0.3055 - acc: 0.8866 - val_loss: 0.3634 - val_acc: 0.8703\n",
      "Epoch 29/50\n",
      "5760/5760 [==============================] - 63s 11ms/step - loss: 0.2872 - acc: 0.8910 - val_loss: 0.3399 - val_acc: 0.8875\n",
      "Epoch 30/50\n",
      "5760/5760 [==============================] - 60s 10ms/step - loss: 0.2905 - acc: 0.8873 - val_loss: 0.3854 - val_acc: 0.8578\n",
      "Epoch 31/50\n",
      "5760/5760 [==============================] - 61s 11ms/step - loss: 0.3020 - acc: 0.8811 - val_loss: 0.5256 - val_acc: 0.8281\n",
      "Epoch 32/50\n",
      "5760/5760 [==============================] - 59s 10ms/step - loss: 0.2905 - acc: 0.8887 - val_loss: 0.3487 - val_acc: 0.8688\n",
      "Epoch 33/50\n",
      "5760/5760 [==============================] - 60s 10ms/step - loss: 0.2728 - acc: 0.8964 - val_loss: 0.4586 - val_acc: 0.8469\n",
      "Epoch 34/50\n",
      "5760/5760 [==============================] - 58s 10ms/step - loss: 0.2752 - acc: 0.8944 - val_loss: 0.3635 - val_acc: 0.8719\n",
      "Epoch 35/50\n",
      "5760/5760 [==============================] - 59s 10ms/step - loss: 0.2573 - acc: 0.8998 - val_loss: 0.3935 - val_acc: 0.8719\n",
      "Epoch 36/50\n",
      "5760/5760 [==============================] - 60s 10ms/step - loss: 0.2663 - acc: 0.8984 - val_loss: 0.4117 - val_acc: 0.8672\n",
      "Epoch 37/50\n",
      "5760/5760 [==============================] - 60s 10ms/step - loss: 0.2511 - acc: 0.9019 - val_loss: 0.3433 - val_acc: 0.8797\n",
      "Epoch 38/50\n",
      "5760/5760 [==============================] - 61s 11ms/step - loss: 0.2472 - acc: 0.9061 - val_loss: 0.3789 - val_acc: 0.8750\n",
      "Epoch 39/50\n",
      "5760/5760 [==============================] - 59s 10ms/step - loss: 0.2525 - acc: 0.9023 - val_loss: 0.3981 - val_acc: 0.8688\n",
      "Epoch 40/50\n",
      "5760/5760 [==============================] - 59s 10ms/step - loss: 0.2571 - acc: 0.8977 - val_loss: 0.3377 - val_acc: 0.8781\n",
      "Epoch 41/50\n",
      "5760/5760 [==============================] - 60s 10ms/step - loss: 0.2469 - acc: 0.9028 - val_loss: 0.3610 - val_acc: 0.8688\n",
      "Epoch 42/50\n",
      "5760/5760 [==============================] - 60s 10ms/step - loss: 0.2254 - acc: 0.9101 - val_loss: 0.3570 - val_acc: 0.8750\n",
      "Epoch 43/50\n",
      "5760/5760 [==============================] - 61s 11ms/step - loss: 0.2376 - acc: 0.9076 - val_loss: 0.3544 - val_acc: 0.8766\n",
      "Epoch 44/50\n",
      "5760/5760 [==============================] - 60s 10ms/step - loss: 0.2282 - acc: 0.9052 - val_loss: 0.3675 - val_acc: 0.8812\n",
      "Epoch 45/50\n",
      "5760/5760 [==============================] - 62s 11ms/step - loss: 0.2333 - acc: 0.9106 - val_loss: 0.3618 - val_acc: 0.8922\n",
      "Epoch 46/50\n",
      "5760/5760 [==============================] - 60s 10ms/step - loss: 0.2233 - acc: 0.9115 - val_loss: 0.3705 - val_acc: 0.8734\n",
      "Epoch 47/50\n",
      "5760/5760 [==============================] - 62s 11ms/step - loss: 0.2249 - acc: 0.9120 - val_loss: 0.3661 - val_acc: 0.8781\n",
      "Epoch 48/50\n",
      "5760/5760 [==============================] - 62s 11ms/step - loss: 0.2337 - acc: 0.9130 - val_loss: 0.3329 - val_acc: 0.8828\n",
      "Epoch 49/50\n",
      "5760/5760 [==============================] - 61s 11ms/step - loss: 0.2166 - acc: 0.9186 - val_loss: 0.5017 - val_acc: 0.8422\n",
      "Epoch 50/50\n",
      "5760/5760 [==============================] - 62s 11ms/step - loss: 0.2225 - acc: 0.9099 - val_loss: 0.4035 - val_acc: 0.8672\n"
     ]
    }
   ],
   "source": [
    "history3 = clf3.fit(xtrain,ytrain,epochs=50,batch_size=128,validation_split=0.1)\n"
   ]
  },
  {
   "cell_type": "code",
   "execution_count": 29,
   "metadata": {
    "collapsed": false
   },
   "outputs": [
    {
     "data": {
      "image/png": "[encoded data removed]",
      "text/plain": [
       "<Figure size 720x360 with 2 Axes>"
      ]
     },
     "metadata": {
      "needs_background": "light"
     },
     "output_type": "display_data"
    },
    {
     "name": "stdout",
     "output_type": "stream",
     "text": [
      "1600/1600 [==============================] - 5s 3ms/step\n",
      "Test Accuracy:  0.864375\n"
     ]
    }
   ],
   "source": [
    "plotHistory(history3)\n",
    "testLoss3, testAccuracy3 = clf3.evaluate(xtest,ytest)\n",
    "print(\"Test Accuracy: \", testAccuracy3)\n"
   ]
  },
  {
   "cell_type": "markdown",
   "metadata": {},
   "source": [
    "## Data Augumentation To Differ From The Varied Results After Batch Normalization"
   ]
  },
  {
   "cell_type": "code",
   "execution_count": 49,
   "metadata": {
    "collapsed": true
   },
   "outputs": [],
   "source": [
    "def trainer_augmentation(model, data, ohe_enc, nb_epochs):\n",
    "    xtrain = data[0]\n",
    "    ytrain = data[1]\n",
    "    xtest = data[2]\n",
    "    ytest = data[3]\n",
    "    \n",
    "    xtrain = np.expand_dims(xtrain, -1)\n",
    "    xtest = np.expand_dims(xtest, -1)\n",
    "    \n",
    "    train_datagen = ImageDataGenerator(\n",
    "        rotation_range=40,\n",
    "        width_shift_range=0.2,\n",
    "        height_shift_range=0.2,\n",
    "        shear_range=0.2,\n",
    "        zoom_range=0.2,\n",
    "        horizontal_flip=True\n",
    "    )\n",
    "    \n",
    "    train_generator = train_datagen.flow(xtrain, ytrain, batch_size=8)\n",
    "    model.fit_generator(train_generator, \n",
    "                        steps_per_epoch=xtrain.shape[0],\n",
    "                        epochs = nb_epochs,\n",
    "                        validation_data=[xtest, ytest]\n",
    "                       )\n",
    "    \n",
    "    #model.fit(xtrain, ytrain, batch_size=8, epochs=nb_epochs, validation_data=(xtest, ytest))\n",
    "    \n",
    "    train_pred = model.predict(xtrain, batch_size=8)\n",
    "    test_pred = model.predict(xtest, batch_size=8)\n",
    "    \n",
    "    train_Y_classes = ohe_enc.inverse_transform(ytrain)\n",
    "    test_Y_classes = ohe_enc.inverse_transform(ytest)\n",
    "\n",
    "    train_pred_classes = ohe_enc.inverse_transform(train_pred)\n",
    "    test_pred_classes = ohe_enc.inverse_transform(test_pred)\n",
    "    \n",
    "    train_acc = accuracy_score(train_Y_classes, train_pred_classes)\n",
    "    test_acc = accuracy_score(test_Y_classes, test_pred_classes)\n",
    "    \n",
    "    return model, [train_acc, test_acc]"
   ]
  },
  {
   "cell_type": "code",
   "execution_count": 50,
   "metadata": {
    "collapsed": false
   },
   "outputs": [],
   "source": [
    "data = [xtrain, ytrain, xtest, ytest]"
   ]
  },
  {
   "cell_type": "code",
   "execution_count": 52,
   "metadata": {
    "collapsed": false
   },
   "outputs": [],
   "source": [
    "# model = Sequential()\n",
    "# model.add(Conv2D(filters=8, kernel_size=(2,2), activation='relu', input_shape=(IMG_SIZE,IMG_SIZE,1)))\n",
    "# model.add(Dropout(0.1))\n",
    "# model.add(MaxPool2D(strides=(2,2)))\n",
    "# model.add(Conv2D(filters=16, kernel_size=(2,2)))\n",
    "# model.add(Dropout(0.1))\n",
    "# model.add(MaxPool2D(strides=(2,2)))\n",
    "# model.add(Flatten())\n",
    "# model.add(Dense(256, activation='relu'))\n",
    "# model.add(Dropout(0.1))\n",
    "# model.add(Dense(128, activation='relu'))\n",
    "# model.add(Dropout(0.1))\n",
    "# model.add(Dense(64, activation='relu'))\n",
    "# model.add(Dropout(0.1))\n",
    "# model.add(Dense(units=4, activation='softmax'))\n",
    "# ohe_enc = OneHotEncoder()\n",
    "# trained_model, acc = trainer_augmentation(clf3, data, ohe_enc, nb_epochs=50)"
   ]
  },
  {
   "cell_type": "code",
   "execution_count": 53,
   "metadata": {
    "collapsed": true
   },
   "outputs": [],
   "source": [
    "def final_data(X,Y):\n",
    "    transformer = ImageDataGenerator()\n",
    "    \n",
    "    fX = []\n",
    "    fY = []\n",
    "    \n",
    "    for img in range(len(X)):\n",
    "        fX.append(X[img])\n",
    "        fY.append(Y[img])\n",
    "        mimg = transformer.apply_transform(X[img],{'flip_horizontal':True})\n",
    "        fX.append(mimg)\n",
    "        fY.append(Y[img])\n",
    "       \n",
    "    fX = np.array(fX)\n",
    "    fY = np.array(fY)\n",
    "    \n",
    "    # this step shuffles the data so that model learns fairly.\n",
    "    s = np.arange(fY.shape[0])\n",
    "    np.random.shuffle(s)\n",
    "    \n",
    "    return fX[s], fY[s]\n",
    "\n",
    "trainX,trainY = final_data(X,Y)"
   ]
  },
  {
   "cell_type": "markdown",
   "metadata": {},
   "source": [
    "#### Now we have our final data ready. We should see validation score and accuracy for this final data to see if there is any improvement.\n",
    "\n"
   ]
  },
  {
   "cell_type": "code",
   "execution_count": 54,
   "metadata": {
    "collapsed": false,
    "scrolled": false
   },
   "outputs": [
    {
     "name": "stdout",
     "output_type": "stream",
     "text": [
      "Train on 14400 samples, validate on 1600 samples\n",
      "Epoch 1/50\n",
      "14400/14400 [==============================] - 169s 12ms/step - loss: 0.3073 - acc: 0.8856 - val_loss: 0.2912 - val_acc: 0.8944\n",
      "Epoch 2/50\n",
      "14400/14400 [==============================] - 163s 11ms/step - loss: 0.2842 - acc: 0.8898 - val_loss: 0.2560 - val_acc: 0.9038\n",
      "Epoch 3/50\n",
      "14400/14400 [==============================] - 153s 11ms/step - loss: 0.2701 - acc: 0.8976 - val_loss: 0.2386 - val_acc: 0.9075\n",
      "Epoch 4/50\n",
      "14400/14400 [==============================] - 149s 10ms/step - loss: 0.2609 - acc: 0.8985 - val_loss: 0.2583 - val_acc: 0.8975\n",
      "Epoch 5/50\n",
      "14400/14400 [==============================] - 169s 12ms/step - loss: 0.2595 - acc: 0.9016 - val_loss: 0.2389 - val_acc: 0.9106\n",
      "Epoch 6/50\n",
      "14400/14400 [==============================] - 149s 10ms/step - loss: 0.2446 - acc: 0.9066 - val_loss: 0.2579 - val_acc: 0.9050\n",
      "Epoch 7/50\n",
      "14400/14400 [==============================] - 154s 11ms/step - loss: 0.2467 - acc: 0.9040 - val_loss: 0.2357 - val_acc: 0.9156\n",
      "Epoch 8/50\n",
      "14400/14400 [==============================] - 167s 12ms/step - loss: 0.2433 - acc: 0.9080 - val_loss: 0.2793 - val_acc: 0.9031\n",
      "Epoch 9/50\n",
      "14400/14400 [==============================] - 158s 11ms/step - loss: 0.2537 - acc: 0.9029 - val_loss: 0.3151 - val_acc: 0.8875\n",
      "Epoch 10/50\n",
      "14400/14400 [==============================] - 150s 10ms/step - loss: 0.2351 - acc: 0.9081 - val_loss: 0.3594 - val_acc: 0.8894\n",
      "Epoch 11/50\n",
      "14400/14400 [==============================] - 381s 26ms/step - loss: 0.2236 - acc: 0.9145 - val_loss: 0.2383 - val_acc: 0.9094\n",
      "Epoch 12/50\n",
      "14400/14400 [==============================] - 158s 11ms/step - loss: 0.2181 - acc: 0.9157 - val_loss: 0.2277 - val_acc: 0.9113\n",
      "Epoch 13/50\n",
      "14400/14400 [==============================] - 153s 11ms/step - loss: 0.2254 - acc: 0.9133 - val_loss: 0.2409 - val_acc: 0.8988\n",
      "Epoch 14/50\n",
      "14400/14400 [==============================] - 150s 10ms/step - loss: 0.2126 - acc: 0.9179 - val_loss: 0.2898 - val_acc: 0.8975\n",
      "Epoch 15/50\n",
      "14400/14400 [==============================] - 202s 14ms/step - loss: 0.2151 - acc: 0.9150 - val_loss: 0.2489 - val_acc: 0.9137\n",
      "Epoch 16/50\n",
      "14400/14400 [==============================] - 151s 11ms/step - loss: 0.2161 - acc: 0.9174 - val_loss: 0.2554 - val_acc: 0.9125\n",
      "Epoch 17/50\n",
      "14400/14400 [==============================] - 150s 10ms/step - loss: 0.2033 - acc: 0.9207 - val_loss: 0.2544 - val_acc: 0.9081\n",
      "Epoch 18/50\n",
      "14400/14400 [==============================] - 150s 10ms/step - loss: 0.1980 - acc: 0.9233 - val_loss: 0.2314 - val_acc: 0.9144\n",
      "Epoch 19/50\n",
      "14400/14400 [==============================] - 151s 10ms/step - loss: 0.1982 - acc: 0.9265 - val_loss: 0.2704 - val_acc: 0.9050\n",
      "Epoch 20/50\n",
      "14400/14400 [==============================] - 150s 10ms/step - loss: 0.2067 - acc: 0.9211 - val_loss: 0.2313 - val_acc: 0.9144\n",
      "Epoch 21/50\n",
      "14400/14400 [==============================] - 148s 10ms/step - loss: 0.1980 - acc: 0.9244 - val_loss: 0.2516 - val_acc: 0.9081\n",
      "Epoch 22/50\n",
      "14400/14400 [==============================] - 149s 10ms/step - loss: 0.1912 - acc: 0.9238 - val_loss: 0.2456 - val_acc: 0.9137\n",
      "Epoch 23/50\n",
      "14400/14400 [==============================] - 151s 11ms/step - loss: 0.1792 - acc: 0.9322 - val_loss: 0.2305 - val_acc: 0.9169\n",
      "Epoch 24/50\n",
      "14400/14400 [==============================] - 154s 11ms/step - loss: 0.1780 - acc: 0.9299 - val_loss: 0.2743 - val_acc: 0.9100\n",
      "Epoch 25/50\n",
      "14400/14400 [==============================] - 150s 10ms/step - loss: 0.1871 - acc: 0.9275 - val_loss: 0.2253 - val_acc: 0.9231\n",
      "Epoch 26/50\n",
      "14400/14400 [==============================] - 156s 11ms/step - loss: 0.1901 - acc: 0.9274 - val_loss: 0.2521 - val_acc: 0.9100\n",
      "Epoch 27/50\n",
      "14400/14400 [==============================] - 151s 11ms/step - loss: 0.1755 - acc: 0.9342 - val_loss: 0.2169 - val_acc: 0.9206\n",
      "Epoch 28/50\n",
      "14400/14400 [==============================] - 152s 11ms/step - loss: 0.1665 - acc: 0.9371 - val_loss: 0.2256 - val_acc: 0.9194\n",
      "Epoch 29/50\n",
      "14400/14400 [==============================] - 149s 10ms/step - loss: 0.1642 - acc: 0.9353 - val_loss: 0.2262 - val_acc: 0.9237\n",
      "Epoch 30/50\n",
      "14400/14400 [==============================] - 156s 11ms/step - loss: 0.1789 - acc: 0.9298 - val_loss: 0.2144 - val_acc: 0.9231\n",
      "Epoch 31/50\n",
      "14400/14400 [==============================] - 159s 11ms/step - loss: 0.1592 - acc: 0.9412 - val_loss: 0.2335 - val_acc: 0.9169\n",
      "Epoch 32/50\n",
      "14400/14400 [==============================] - 162s 11ms/step - loss: 0.1652 - acc: 0.9350 - val_loss: 0.2071 - val_acc: 0.9231\n",
      "Epoch 33/50\n",
      "14400/14400 [==============================] - 162s 11ms/step - loss: 0.1528 - acc: 0.9396 - val_loss: 0.2562 - val_acc: 0.9206\n",
      "Epoch 34/50\n",
      "14400/14400 [==============================] - 168s 12ms/step - loss: 0.1523 - acc: 0.9423 - val_loss: 0.2395 - val_acc: 0.9206\n",
      "Epoch 35/50\n",
      "14400/14400 [==============================] - 169s 12ms/step - loss: 0.1594 - acc: 0.9397 - val_loss: 0.2416 - val_acc: 0.9187\n",
      "Epoch 36/50\n",
      "14400/14400 [==============================] - 159s 11ms/step - loss: 0.1616 - acc: 0.9367 - val_loss: 0.2133 - val_acc: 0.9281\n",
      "Epoch 37/50\n",
      "14400/14400 [==============================] - 158s 11ms/step - loss: 0.1535 - acc: 0.9427 - val_loss: 0.2188 - val_acc: 0.9213\n",
      "Epoch 38/50\n",
      "14400/14400 [==============================] - 152s 11ms/step - loss: 0.1462 - acc: 0.9448 - val_loss: 0.2216 - val_acc: 0.9256\n",
      "Epoch 39/50\n",
      "14400/14400 [==============================] - 153s 11ms/step - loss: 0.1452 - acc: 0.9442 - val_loss: 0.2566 - val_acc: 0.9200\n",
      "Epoch 40/50\n",
      "14400/14400 [==============================] - 157s 11ms/step - loss: 0.1862 - acc: 0.9296 - val_loss: 0.2330 - val_acc: 0.9219\n",
      "Epoch 41/50\n",
      "14400/14400 [==============================] - 1089s 76ms/step - loss: 0.1524 - acc: 0.9406 - val_loss: 0.2230 - val_acc: 0.9256\n",
      "Epoch 42/50\n",
      "14400/14400 [==============================] - 170s 12ms/step - loss: 0.1492 - acc: 0.9441 - val_loss: 0.2028 - val_acc: 0.9306\n",
      "Epoch 43/50\n",
      "14400/14400 [==============================] - 166s 11ms/step - loss: 0.1415 - acc: 0.9471 - val_loss: 0.2095 - val_acc: 0.9300\n",
      "Epoch 44/50\n",
      "14400/14400 [==============================] - 159s 11ms/step - loss: 0.1354 - acc: 0.9484 - val_loss: 0.2115 - val_acc: 0.9319\n",
      "Epoch 45/50\n",
      "14400/14400 [==============================] - 166s 12ms/step - loss: 0.1332 - acc: 0.9501 - val_loss: 0.2423 - val_acc: 0.9244\n",
      "Epoch 46/50\n",
      "14400/14400 [==============================] - 159s 11ms/step - loss: 0.1397 - acc: 0.9469 - val_loss: 0.2050 - val_acc: 0.9281\n",
      "Epoch 47/50\n",
      "14400/14400 [==============================] - 158s 11ms/step - loss: 0.1333 - acc: 0.9498 - val_loss: 0.2009 - val_acc: 0.9306\n",
      "Epoch 48/50\n",
      "14400/14400 [==============================] - 155s 11ms/step - loss: 0.1373 - acc: 0.9500 - val_loss: 0.2194 - val_acc: 0.9306\n",
      "Epoch 49/50\n",
      "14400/14400 [==============================] - 153s 11ms/step - loss: 0.1352 - acc: 0.9506 - val_loss: 0.2400 - val_acc: 0.9237\n",
      "Epoch 50/50\n",
      "14400/14400 [==============================] - 167s 12ms/step - loss: 0.1275 - acc: 0.9525 - val_loss: 0.2053 - val_acc: 0.9269\n"
     ]
    }
   ],
   "source": [
    "historyFinal = clf3.fit(trainX,trainY,epochs=50,batch_size=128,validation_split=0.1)"
   ]
  },
  {
   "cell_type": "markdown",
   "metadata": {},
   "source": [
    "## Let's Plot Our Training Results \n",
    "\n",
    " - Accuracy v/s epoch\n",
    " - Loss v/s epoch  \n",
    " \n",
    " "
   ]
  },
  {
   "cell_type": "code",
   "execution_count": 57,
   "metadata": {
    "collapsed": false
   },
   "outputs": [
    {
     "data": {
      "image/png": "[encoded data removed]",
      "text/plain": [
       "<Figure size 720x360 with 2 Axes>"
      ]
     },
     "metadata": {
      "needs_background": "light"
     },
     "output_type": "display_data"
    },
    {
     "name": "stdout",
     "output_type": "stream",
     "text": [
      "1600/1600 [==============================] - 5s 3ms/step\n",
      "Test Accuracy:  0.978125\n"
     ]
    }
   ],
   "source": [
    "plotHistory(historyFinal)\n",
    "testLoss3, testAccuracy3 = clf3.evaluate(xtest,ytest)\n",
    "print(\"Test Accuracy: \", testAccuracy3)"
   ]
  },
  {
   "cell_type": "markdown",
   "metadata": {},
   "source": [
    "## We Can Observe That After Some Irregularities in the Training with Batch Normalization, Data Augumentation with Traing the Model on the Existing Dataset's mirror Images, Improves Our Test Accuracy By A Significant Margin. "
   ]
  },
  {
   "cell_type": "markdown",
   "metadata": {},
   "source": [
    "### Importing the test_image.pkl file and Visualizing it."
   ]
  },
  {
   "cell_type": "code",
   "execution_count": 55,
   "metadata": {
    "collapsed": true
   },
   "outputs": [],
   "source": [
    "with open('test_image.pkl','rb') as file:\n",
    "    test_image = pickle.load(file)\n",
    "    test_image = np.array(test_image)\n",
    "    file.close()\n",
    "    "
   ]
  },
  {
   "cell_type": "code",
   "execution_count": 58,
   "metadata": {
    "collapsed": false
   },
   "outputs": [
    {
     "data": {
      "text/plain": [
       "(2000, 784)"
      ]
     },
     "execution_count": 58,
     "metadata": {},
     "output_type": "execute_result"
    }
   ],
   "source": [
    "test_image.shape"
   ]
  },
  {
   "cell_type": "code",
   "execution_count": 59,
   "metadata": {
    "collapsed": true
   },
   "outputs": [],
   "source": [
    "# reshaping test images into 28x28 images with 1 channel. dividing by 255 for normalization\n",
    "test = (test_image.reshape(-1,28,28,1))/255"
   ]
  },
  {
   "cell_type": "code",
   "execution_count": 60,
   "metadata": {
    "collapsed": false
   },
   "outputs": [
    {
     "data": {
      "text/plain": [
       "<matplotlib.image.AxesImage at 0x13c959a90>"
      ]
     },
     "execution_count": 60,
     "metadata": {},
     "output_type": "execute_result"
    },
    {
     "data": {
      "image/png": "[encoded data removed]",
      "text/plain": [
       "<Figure size 432x288 with 1 Axes>"
      ]
     },
     "metadata": {
      "needs_background": "light"
     },
     "output_type": "display_data"
    }
   ],
   "source": [
    "plt.imshow(test[0].reshape(28,28))"
   ]
  },
  {
   "cell_type": "markdown",
   "metadata": {},
   "source": [
    "#### Let's Check The Predictions On Test Images Using Our Clf3 model"
   ]
  },
  {
   "cell_type": "code",
   "execution_count": 61,
   "metadata": {
    "collapsed": true
   },
   "outputs": [],
   "source": [
    "# predicting test images using clf3 model.\n",
    "\n",
    "predictions = clf3.predict(test)\n",
    "predictions = classes[np.argmax(predictions,axis=1)]"
   ]
  },
  {
   "cell_type": "code",
   "execution_count": 62,
   "metadata": {
    "collapsed": true
   },
   "outputs": [],
   "source": [
    "# converting into required format\n",
    "\n",
    "ans = np.array([[i,predictions[i]] for i in range(len(test))])"
   ]
  },
  {
   "cell_type": "markdown",
   "metadata": {},
   "source": [
    "# Saving Outcome on CSV File"
   ]
  }
 ],
 "metadata": {
  "anaconda-cloud": {},
  "kernelspec": {
   "display_name": "Python [default]",
   "language": "python",
   "name": "python3"
  },
  "language_info": {
   "codemirror_mode": {
    "name": "ipython",
    "version": 3
   },
   "file_extension": ".py",
   "mimetype": "text/x-python",
   "name": "python",
   "nbconvert_exporter": "python",
   "pygments_lexer": "ipython3",
   "version": "3.5.6"
  }
 },
 "nbformat": 4,
 "nbformat_minor": 1
}
