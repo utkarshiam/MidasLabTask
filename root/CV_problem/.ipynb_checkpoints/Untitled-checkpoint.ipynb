{
 "cells": [
  {
   "cell_type": "markdown",
   "metadata": {},
   "source": [
    "# Problem 3: CV Problem"
   ]
  },
  {
   "cell_type": "markdown",
   "metadata": {},
   "source": [
    "#### Importing Libraries\n",
    " \n",
    " - Keras and Tensorflow for building deep neural networks\n",
    " - Pandas for data manipulation\n",
    " - Numpy for mathematical operations\n",
    " - sklearn for getting different metrics of a trained model\n",
    " - pickle to load trained model"
   ]
  },
  {
   "cell_type": "code",
   "execution_count": 18,
   "metadata": {
    "collapsed": false
   },
   "outputs": [],
   "source": [
    "import pickle\n",
    "import numpy as np\n",
    "import matplotlib.pyplot as plt\n",
    "import keras\n",
    "from sklearn.cross_validation import train_test_split\n",
    "from keras.models import Sequential\n",
    "from keras.layers import Dense"
   ]
  },
  {
   "cell_type": "markdown",
   "metadata": {},
   "source": [
    "#### Loading files(training images and labels) using pickle"
   ]
  },
  {
   "cell_type": "code",
   "execution_count": 7,
   "metadata": {
    "collapsed": false
   },
   "outputs": [],
   "source": [
    "with open('train_image.pkl','rb') as file:\n",
    "    train_image = pickle.load(file)\n",
    "    train_image = np.array(train_image)\n",
    "    file.close()\n",
    "\n",
    "with open('train_label.pkl','rb') as file:\n",
    "    train_label = pickle.load(file)\n",
    "    train_label = np.array(train_label)\n",
    "    file.close()"
   ]
  },
  {
   "cell_type": "markdown",
   "metadata": {},
   "source": [
    "#### Preparing Data"
   ]
  },
  {
   "cell_type": "code",
   "execution_count": 8,
   "metadata": {
    "collapsed": true
   },
   "outputs": [],
   "source": [
    "classes = np.unique(train_label)\n",
    "IMG_SIZE = 28\n",
    "def prepareData(images, labels):\n",
    "    Y = []\n",
    "    X = (np.array(images).reshape(-1,IMG_SIZE,IMG_SIZE,1))/255\n",
    "    for l in labels:\n",
    "        Y.append([int(classes[i]==l) for i in range(4)])\n",
    "    return X,np.array(Y)\n",
    "\n",
    "X,Y = prepareData(train_image, train_label)"
   ]
  },
  {
   "cell_type": "markdown",
   "metadata": {},
   "source": [
    "## Plotting And Visualizing the Images"
   ]
  },
  {
   "cell_type": "code",
   "execution_count": 9,
   "metadata": {
    "collapsed": false
   },
   "outputs": [
    {
     "data": {
      "image/png": "[encoded data removed]",
      "text/plain": [
       "<Figure size 864x576 with 6 Axes>"
      ]
     },
     "metadata": {
      "needs_background": "light"
     },
     "output_type": "display_data"
    }
   ],
   "source": [
    "fig = plt.figure(figsize=(12, 8))\n",
    "columns = 3\n",
    "rows = 2\n",
    "for i in range(1, columns*rows +1):\n",
    "    rnd = np.random.randint(0,8000)\n",
    "    img,lbl = X[rnd].reshape(IMG_SIZE,IMG_SIZE),Y[rnd]\n",
    "    fig.add_subplot(rows,columns,i)\n",
    "    plt.imshow(img,cmap='gray')\n",
    "    plt.title(classes[np.argmax(lbl)])\n",
    "plt.show()"
   ]
  },
  {
   "cell_type": "markdown",
   "metadata": {},
   "source": [
    "#### Splitting the Data into Train And Test"
   ]
  },
  {
   "cell_type": "code",
   "execution_count": 10,
   "metadata": {
    "collapsed": true
   },
   "outputs": [],
   "source": [
    "xtrain, xtest, ytrain, ytest = train_test_split(X,Y,test_size=0.20,random_state=0)"
   ]
  },
  {
   "cell_type": "markdown",
   "metadata": {},
   "source": [
    "## Plot For Model Accuracy \n",
    "\n",
    " - Plotting Accuracy -: x-axis (Epoch)\n",
    " - Plotting Accuracy -: y-axis (Accuracy)\n",
    "    \n",
    "## Plot For Summarizing History of Loss\n",
    "\n",
    " - Plotting Loss -: x-axis (Epoch)\n",
    " - Plotting Loss -: y-axis (Loss) "
   ]
  },
  {
   "cell_type": "code",
   "execution_count": 11,
   "metadata": {
    "collapsed": true
   },
   "outputs": [],
   "source": [
    "def plotHistory(history):\n",
    "    # summarize history for accuracy\n",
    "    fig = plt.figure(figsize=(10,5))\n",
    "\n",
    "    fig.add_subplot(1,2,1)\n",
    "    plt.plot(history.history['acc'])\n",
    "    plt.plot(history.history['val_acc'])\n",
    "    plt.title('model accuracy')\n",
    "    plt.ylabel('accuracy')\n",
    "    plt.xlabel('epoch')\n",
    "    plt.legend(['train', 'val'], loc='upper left')\n",
    "\n",
    "\n",
    "    # summarize history for loss\n",
    "    fig.add_subplot(1,2,2)\n",
    "    plt.plot(history.history['loss'])\n",
    "    plt.plot(history.history['val_loss'])\n",
    "    plt.title('model loss')\n",
    "    plt.ylabel('loss')\n",
    "    plt.xlabel('epoch')\n",
    "    plt.legend(['train', 'val'], loc='upper left')\n",
    "\n",
    "\n",
    "    plt.show()"
   ]
  },
  {
   "cell_type": "markdown",
   "metadata": {},
   "source": [
    "# Building Model\n",
    "\n",
    " - Loss: CrossEntropy\n",
    " - Hidden Layers: 2NN\n",
    " - Optimizer: adam  \n",
    " - Sigmoid.\n",
    " \n",
    " "
   ]
  },
  {
   "cell_type": "code",
   "execution_count": 21,
   "metadata": {
    "collapsed": false
   },
   "outputs": [
    {
     "name": "stdout",
     "output_type": "stream",
     "text": [
      "_________________________________________________________________\n",
      "Layer (type)                 Output Shape              Param #   \n",
      "=================================================================\n",
      "conv2d_7 (Conv2D)            (None, 28, 28, 32)        320       \n",
      "_________________________________________________________________\n",
      "max_pooling2d_7 (MaxPooling2 (None, 14, 14, 32)        0         \n",
      "_________________________________________________________________\n",
      "flatten_7 (Flatten)          (None, 6272)              0         \n",
      "_________________________________________________________________\n",
      "dense_13 (Dense)             (None, 128)               802944    \n",
      "_________________________________________________________________\n",
      "dense_14 (Dense)             (None, 4)                 516       \n",
      "=================================================================\n",
      "Total params: 803,780\n",
      "Trainable params: 803,780\n",
      "Non-trainable params: 0\n",
      "_________________________________________________________________\n"
     ]
    }
   ],
   "source": [
    "# MODEL ARCHITECTURE\n",
    "\n",
    "clf1 = Sequential()\n",
    "\n",
    "clf1.add(keras.layers.Conv2D(filters = 32, kernel_size = (3,3),padding = 'Same',activation ='relu', input_shape = (IMG_SIZE,IMG_SIZE,1)))\n",
    "clf1.add(keras.layers.MaxPooling2D(pool_size=(2,2)))\n",
    "\n",
    "clf1.add(keras.layers.Flatten())\n",
    "\n",
    "clf1.add(Dense(units=128,activation='relu'))\n",
    "clf1.add(Dense(units=4,activation='sigmoid'))\n",
    "\n",
    "\n",
    "clf1.compile(optimizer='adam',loss='categorical_crossentropy',metrics=['accuracy'])\n",
    "clf1.summary()"
   ]
  },
  {
   "cell_type": "code",
   "execution_count": 22,
   "metadata": {
    "collapsed": false
   },
   "outputs": [
    {
     "name": "stdout",
     "output_type": "stream",
     "text": [
      "Train on 5760 samples, validate on 640 samples\n",
      "Epoch 1/50\n",
      "5760/5760 [==============================] - 5s 900us/step - loss: 0.6842 - acc: 0.7363 - val_loss: 0.5374 - val_acc: 0.7922\n",
      "Epoch 2/50\n",
      "5760/5760 [==============================] - 4s 675us/step - loss: 0.4764 - acc: 0.8153 - val_loss: 0.4611 - val_acc: 0.8172\n",
      "Epoch 3/50\n",
      "5760/5760 [==============================] - 4s 669us/step - loss: 0.4118 - acc: 0.8415 - val_loss: 0.4290 - val_acc: 0.8281\n",
      "Epoch 4/50\n",
      "5760/5760 [==============================] - 4s 647us/step - loss: 0.3751 - acc: 0.8599 - val_loss: 0.4216 - val_acc: 0.8469\n",
      "Epoch 5/50\n",
      "5760/5760 [==============================] - 4s 699us/step - loss: 0.3510 - acc: 0.8644 - val_loss: 0.3943 - val_acc: 0.8688\n",
      "Epoch 6/50\n",
      "5760/5760 [==============================] - 4s 646us/step - loss: 0.3337 - acc: 0.8700 - val_loss: 0.4047 - val_acc: 0.8562\n",
      "Epoch 7/50\n",
      "5760/5760 [==============================] - 4s 680us/step - loss: 0.3119 - acc: 0.8806 - val_loss: 0.3851 - val_acc: 0.8562\n",
      "Epoch 8/50\n",
      "5760/5760 [==============================] - 4s 662us/step - loss: 0.2892 - acc: 0.8896 - val_loss: 0.3907 - val_acc: 0.8625\n",
      "Epoch 9/50\n",
      "5760/5760 [==============================] - 4s 717us/step - loss: 0.2741 - acc: 0.9000 - val_loss: 0.3952 - val_acc: 0.8672\n",
      "Epoch 10/50\n",
      "5760/5760 [==============================] - 4s 670us/step - loss: 0.2707 - acc: 0.8967 - val_loss: 0.3743 - val_acc: 0.8609\n",
      "Epoch 11/50\n",
      "5760/5760 [==============================] - 4s 650us/step - loss: 0.2445 - acc: 0.9068 - val_loss: 0.3469 - val_acc: 0.8781\n",
      "Epoch 12/50\n",
      "5760/5760 [==============================] - 4s 734us/step - loss: 0.2353 - acc: 0.9128 - val_loss: 0.3741 - val_acc: 0.8641\n",
      "Epoch 13/50\n",
      "5760/5760 [==============================] - 4s 656us/step - loss: 0.2252 - acc: 0.9184 - val_loss: 0.3408 - val_acc: 0.8828\n",
      "Epoch 14/50\n",
      "5760/5760 [==============================] - 4s 703us/step - loss: 0.2138 - acc: 0.9207 - val_loss: 0.3446 - val_acc: 0.8875\n",
      "Epoch 15/50\n",
      "5760/5760 [==============================] - 4s 772us/step - loss: 0.1912 - acc: 0.9309 - val_loss: 0.3423 - val_acc: 0.8828\n",
      "Epoch 16/50\n",
      "5760/5760 [==============================] - 4s 753us/step - loss: 0.1871 - acc: 0.9354 - val_loss: 0.3481 - val_acc: 0.8781\n",
      "Epoch 17/50\n",
      "5760/5760 [==============================] - 4s 672us/step - loss: 0.1767 - acc: 0.9366 - val_loss: 0.3586 - val_acc: 0.8828\n",
      "Epoch 18/50\n",
      "5760/5760 [==============================] - 4s 661us/step - loss: 0.1591 - acc: 0.9476 - val_loss: 0.3599 - val_acc: 0.8844\n",
      "Epoch 19/50\n",
      "5760/5760 [==============================] - 4s 675us/step - loss: 0.1471 - acc: 0.9509 - val_loss: 0.3530 - val_acc: 0.8875\n",
      "Epoch 20/50\n",
      "5760/5760 [==============================] - 4s 705us/step - loss: 0.1360 - acc: 0.9561 - val_loss: 0.3550 - val_acc: 0.8828\n",
      "Epoch 21/50\n",
      "5760/5760 [==============================] - 4s 707us/step - loss: 0.1304 - acc: 0.9576 - val_loss: 0.3767 - val_acc: 0.8781\n",
      "Epoch 22/50\n",
      "5760/5760 [==============================] - 4s 746us/step - loss: 0.1171 - acc: 0.9653 - val_loss: 0.3616 - val_acc: 0.8766\n",
      "Epoch 23/50\n",
      "5760/5760 [==============================] - 5s 870us/step - loss: 0.1055 - acc: 0.9694 - val_loss: 0.3669 - val_acc: 0.8828\n",
      "Epoch 24/50\n",
      "5760/5760 [==============================] - 4s 705us/step - loss: 0.0982 - acc: 0.9707 - val_loss: 0.3860 - val_acc: 0.8875\n",
      "Epoch 25/50\n",
      "5760/5760 [==============================] - 5s 899us/step - loss: 0.0924 - acc: 0.9733 - val_loss: 0.3772 - val_acc: 0.8922\n",
      "Epoch 26/50\n",
      "5760/5760 [==============================] - 4s 780us/step - loss: 0.0799 - acc: 0.9813 - val_loss: 0.3958 - val_acc: 0.8844\n",
      "Epoch 27/50\n",
      "5760/5760 [==============================] - 4s 674us/step - loss: 0.0814 - acc: 0.9776 - val_loss: 0.4036 - val_acc: 0.8891\n",
      "Epoch 28/50\n",
      "5760/5760 [==============================] - 5s 827us/step - loss: 0.0702 - acc: 0.9828 - val_loss: 0.4123 - val_acc: 0.8859\n",
      "Epoch 29/50\n",
      "5760/5760 [==============================] - 5s 850us/step - loss: 0.0710 - acc: 0.9802 - val_loss: 0.4131 - val_acc: 0.8781\n",
      "Epoch 30/50\n",
      "5760/5760 [==============================] - 5s 789us/step - loss: 0.0656 - acc: 0.9842 - val_loss: 0.4207 - val_acc: 0.8891\n",
      "Epoch 31/50\n",
      "5760/5760 [==============================] - 5s 937us/step - loss: 0.0573 - acc: 0.9875 - val_loss: 0.4682 - val_acc: 0.8812\n",
      "Epoch 32/50\n",
      "5760/5760 [==============================] - 5s 806us/step - loss: 0.0526 - acc: 0.9870 - val_loss: 0.4703 - val_acc: 0.8719\n",
      "Epoch 33/50\n",
      "5760/5760 [==============================] - 4s 672us/step - loss: 0.0460 - acc: 0.9910 - val_loss: 0.4558 - val_acc: 0.8766\n",
      "Epoch 34/50\n",
      "5760/5760 [==============================] - 4s 703us/step - loss: 0.0409 - acc: 0.9922 - val_loss: 0.4652 - val_acc: 0.8766\n",
      "Epoch 35/50\n",
      "5760/5760 [==============================] - 4s 675us/step - loss: 0.0362 - acc: 0.9946 - val_loss: 0.5196 - val_acc: 0.8641\n",
      "Epoch 36/50\n",
      "5760/5760 [==============================] - 5s 926us/step - loss: 0.0393 - acc: 0.9932 - val_loss: 0.4889 - val_acc: 0.8750\n",
      "Epoch 37/50\n",
      "5760/5760 [==============================] - 5s 843us/step - loss: 0.0326 - acc: 0.9941 - val_loss: 0.4718 - val_acc: 0.8891\n",
      "Epoch 38/50\n",
      "5760/5760 [==============================] - 5s 860us/step - loss: 0.0286 - acc: 0.9957 - val_loss: 0.4788 - val_acc: 0.8828\n",
      "Epoch 39/50\n",
      "5760/5760 [==============================] - 4s 769us/step - loss: 0.0252 - acc: 0.9967 - val_loss: 0.4769 - val_acc: 0.8938\n",
      "Epoch 40/50\n",
      "5760/5760 [==============================] - 4s 657us/step - loss: 0.0223 - acc: 0.9976 - val_loss: 0.4952 - val_acc: 0.8781\n",
      "Epoch 41/50\n",
      "5760/5760 [==============================] - 4s 701us/step - loss: 0.0210 - acc: 0.9988 - val_loss: 0.4987 - val_acc: 0.8844\n",
      "Epoch 42/50\n",
      "5760/5760 [==============================] - 4s 692us/step - loss: 0.0208 - acc: 0.9979 - val_loss: 0.5053 - val_acc: 0.8875\n",
      "Epoch 43/50\n",
      "5760/5760 [==============================] - 4s 667us/step - loss: 0.0189 - acc: 0.9990 - val_loss: 0.5208 - val_acc: 0.8812\n",
      "Epoch 44/50\n",
      "5760/5760 [==============================] - 4s 680us/step - loss: 0.0154 - acc: 0.9997 - val_loss: 0.5141 - val_acc: 0.8875\n",
      "Epoch 45/50\n",
      "5760/5760 [==============================] - 4s 683us/step - loss: 0.0141 - acc: 0.9997 - val_loss: 0.5343 - val_acc: 0.8891\n",
      "Epoch 46/50\n",
      "5760/5760 [==============================] - 4s 688us/step - loss: 0.0130 - acc: 0.9995 - val_loss: 0.5443 - val_acc: 0.8922\n",
      "Epoch 47/50\n",
      "5760/5760 [==============================] - 4s 665us/step - loss: 0.0122 - acc: 0.9995 - val_loss: 0.5553 - val_acc: 0.8812\n",
      "Epoch 48/50\n",
      "5760/5760 [==============================] - 4s 660us/step - loss: 0.0114 - acc: 1.0000 - val_loss: 0.5404 - val_acc: 0.8812\n",
      "Epoch 49/50\n",
      "5760/5760 [==============================] - 4s 690us/step - loss: 0.0103 - acc: 0.9998 - val_loss: 0.5591 - val_acc: 0.8844\n",
      "Epoch 50/50\n",
      "5760/5760 [==============================] - 4s 701us/step - loss: 0.0100 - acc: 0.9998 - val_loss: 0.5654 - val_acc: 0.8828\n"
     ]
    }
   ],
   "source": [
    "history1 = clf1.fit(xtrain,ytrain,epochs=50,batch_size=128,validation_split=0.1)"
   ]
  },
  {
   "cell_type": "markdown",
   "metadata": {},
   "source": [
    "# Plotting the Accuracy Of the model"
   ]
  },
  {
   "cell_type": "code",
   "execution_count": 25,
   "metadata": {
    "collapsed": false
   },
   "outputs": [
    {
     "data": {
      "image/png": "[encoded data removed]",
      "text/plain": [
       "<Figure size 720x360 with 2 Axes>"
      ]
     },
     "metadata": {
      "needs_background": "light"
     },
     "output_type": "display_data"
    },
    {
     "name": "stdout",
     "output_type": "stream",
     "text": [
      "1600/1600 [==============================] - 0s 279us/step\n",
      "Test Accuracy:  0.868125\n"
     ]
    }
   ],
   "source": [
    "plotHistory(history1)\n",
    "testLoss2, testAccuracy2 = clf1.evaluate(xtest,ytest)\n",
    "print(\"Test Accuracy: \", testAccuracy2)"
   ]
  },
  {
   "cell_type": "markdown",
   "metadata": {},
   "source": [
    "# Model-2 With Dropouts/Batch Normalization"
   ]
  },
  {
   "cell_type": "code",
   "execution_count": 27,
   "metadata": {
    "collapsed": false
   },
   "outputs": [
    {
     "name": "stdout",
     "output_type": "stream",
     "text": [
      "_________________________________________________________________\n",
      "Layer (type)                 Output Shape              Param #   \n",
      "=================================================================\n",
      "conv2d_12 (Conv2D)           (None, 28, 28, 32)        320       \n",
      "_________________________________________________________________\n",
      "batch_normalization_7 (Batch (None, 28, 28, 32)        128       \n",
      "_________________________________________________________________\n",
      "conv2d_13 (Conv2D)           (None, 28, 28, 32)        9248      \n",
      "_________________________________________________________________\n",
      "batch_normalization_8 (Batch (None, 28, 28, 32)        128       \n",
      "_________________________________________________________________\n",
      "max_pooling2d_10 (MaxPooling (None, 14, 14, 32)        0         \n",
      "_________________________________________________________________\n",
      "dropout_6 (Dropout)          (None, 14, 14, 32)        0         \n",
      "_________________________________________________________________\n",
      "conv2d_14 (Conv2D)           (None, 14, 14, 64)        18496     \n",
      "_________________________________________________________________\n",
      "batch_normalization_9 (Batch (None, 14, 14, 64)        256       \n",
      "_________________________________________________________________\n",
      "dropout_7 (Dropout)          (None, 14, 14, 64)        0         \n",
      "_________________________________________________________________\n",
      "conv2d_15 (Conv2D)           (None, 14, 14, 128)       73856     \n",
      "_________________________________________________________________\n",
      "batch_normalization_10 (Batc (None, 14, 14, 128)       512       \n",
      "_________________________________________________________________\n",
      "max_pooling2d_11 (MaxPooling (None, 7, 7, 128)         0         \n",
      "_________________________________________________________________\n",
      "dropout_8 (Dropout)          (None, 7, 7, 128)         0         \n",
      "_________________________________________________________________\n",
      "flatten_9 (Flatten)          (None, 6272)              0         \n",
      "_________________________________________________________________\n",
      "dense_18 (Dense)             (None, 512)               3211776   \n",
      "_________________________________________________________________\n",
      "batch_normalization_11 (Batc (None, 512)               2048      \n",
      "_________________________________________________________________\n",
      "dropout_9 (Dropout)          (None, 512)               0         \n",
      "_________________________________________________________________\n",
      "dense_19 (Dense)             (None, 64)                32832     \n",
      "_________________________________________________________________\n",
      "batch_normalization_12 (Batc (None, 64)                256       \n",
      "_________________________________________________________________\n",
      "dropout_10 (Dropout)         (None, 64)                0         \n",
      "_________________________________________________________________\n",
      "dense_20 (Dense)             (None, 4)                 260       \n",
      "=================================================================\n",
      "Total params: 3,350,116\n",
      "Trainable params: 3,348,452\n",
      "Non-trainable params: 1,664\n",
      "_________________________________________________________________\n"
     ]
    }
   ],
   "source": [
    "clf3 = Sequential()\n",
    "\n",
    "clf3.add(keras.layers.Conv2D(filters = 32, kernel_size = (3,3),padding = 'Same',activation ='relu', input_shape = (IMG_SIZE,IMG_SIZE,1)))\n",
    "clf3.add(keras.layers.BatchNormalization())\n",
    "\n",
    "clf3.add(keras.layers.Conv2D(filters = 32, kernel_size = (3,3),padding = 'Same',activation ='relu'))\n",
    "clf3.add(keras.layers.BatchNormalization())\n",
    "clf3.add(keras.layers.MaxPooling2D(pool_size=(2,2)))\n",
    "clf3.add(keras.layers.Dropout(0.5))\n",
    "\n",
    "\n",
    "clf3.add(keras.layers.Conv2D(filters = 64, kernel_size = (3,3),padding = 'Same',activation ='relu'))\n",
    "clf3.add(keras.layers.BatchNormalization())\n",
    "clf3.add(keras.layers.Dropout(0.5))\n",
    "    \n",
    "clf3.add(keras.layers.Conv2D(filters = 128, kernel_size = (3,3),padding = 'Same',activation ='relu'))\n",
    "clf3.add(keras.layers.BatchNormalization())\n",
    "clf3.add(keras.layers.MaxPooling2D(pool_size=(2,2)))\n",
    "clf3.add(keras.layers.Dropout(0.5))\n",
    "\n",
    "clf3.add(keras.layers.Flatten())\n",
    "\n",
    "clf3.add(Dense(units=512,activation='relu'))\n",
    "clf3.add(keras.layers.BatchNormalization())\n",
    "clf3.add(keras.layers.Dropout(0.5))\n",
    "\n",
    "\n",
    "clf3.add(Dense(units=64,activation='relu'))\n",
    "clf3.add(keras.layers.BatchNormalization())\n",
    "clf3.add(keras.layers.Dropout(0.5))\n",
    "\n",
    "clf3.add(Dense(units=4,activation='sigmoid'))\n",
    "\n",
    "\n",
    "clf3.compile(optimizer='adam',loss='categorical_crossentropy',metrics=['accuracy'])\n",
    "clf3.summary()"
   ]
  },
  {
   "cell_type": "code",
   "execution_count": null,
   "metadata": {
    "collapsed": true
   },
   "outputs": [],
   "source": []
  }
 ],
 "metadata": {
  "anaconda-cloud": {},
  "kernelspec": {
   "display_name": "Python [default]",
   "language": "python",
   "name": "python3"
  },
  "language_info": {
   "codemirror_mode": {
    "name": "ipython",
    "version": 3
   },
   "file_extension": ".py",
   "mimetype": "text/x-python",
   "name": "python",
   "nbconvert_exporter": "python",
   "pygments_lexer": "ipython3",
   "version": "3.5.6"
  }
 },
 "nbformat": 4,
 "nbformat_minor": 1
}
