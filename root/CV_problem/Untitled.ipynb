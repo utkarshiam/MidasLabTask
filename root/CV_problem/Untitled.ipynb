{
 "cells": [
  {
   "cell_type": "markdown",
   "metadata": {},
   "source": [
    "# Problem 3: CV Problem"
   ]
  },
  {
   "cell_type": "markdown",
   "metadata": {},
   "source": [
    "#### Importing Libraries\n",
    " \n",
    " - Keras and Tensorflow for building deep neural networks\n",
    " - Pandas for data manipulation\n",
    " - Numpy for mathematical operations\n",
    " - sklearn for getting different metrics of a trained model\n",
    " - pickle to load trained model"
   ]
  },
  {
   "cell_type": "code",
   "execution_count": 5,
   "metadata": {
    "collapsed": false
   },
   "outputs": [],
   "source": [
    "import pickle\n",
    "import numpy as np\n",
    "import matplotlib.pyplot as plt\n",
    "import keras\n",
    "from sklearn.cross_validation import train_test_split"
   ]
  },
  {
   "cell_type": "markdown",
   "metadata": {},
   "source": [
    "#### Loading files(training images and labels) using pickle"
   ]
  },
  {
   "cell_type": "code",
   "execution_count": 7,
   "metadata": {
    "collapsed": false
   },
   "outputs": [],
   "source": [
    "with open('train_image.pkl','rb') as file:\n",
    "    train_image = pickle.load(file)\n",
    "    train_image = np.array(train_image)\n",
    "    file.close()\n",
    "\n",
    "with open('train_label.pkl','rb') as file:\n",
    "    train_label = pickle.load(file)\n",
    "    train_label = np.array(train_label)\n",
    "    file.close()"
   ]
  },
  {
   "cell_type": "markdown",
   "metadata": {},
   "source": [
    "#### Preparing Data"
   ]
  },
  {
   "cell_type": "code",
   "execution_count": 8,
   "metadata": {
    "collapsed": true
   },
   "outputs": [],
   "source": [
    "classes = np.unique(train_label)\n",
    "IMG_SIZE = 28\n",
    "def prepareData(images, labels):\n",
    "    Y = []\n",
    "    X = (np.array(images).reshape(-1,IMG_SIZE,IMG_SIZE,1))/255\n",
    "    for l in labels:\n",
    "        Y.append([int(classes[i]==l) for i in range(4)])\n",
    "    return X,np.array(Y)\n",
    "\n",
    "X,Y = prepareData(train_image, train_label)"
   ]
  },
  {
   "cell_type": "markdown",
   "metadata": {},
   "source": [
    "## Plotting And Visualizing the Images"
   ]
  }
 ],
 "metadata": {
  "anaconda-cloud": {},
  "kernelspec": {
   "display_name": "Python [default]",
   "language": "python",
   "name": "python3"
  },
  "language_info": {
   "codemirror_mode": {
    "name": "ipython",
    "version": 3
   },
   "file_extension": ".py",
   "mimetype": "text/x-python",
   "name": "python",
   "nbconvert_exporter": "python",
   "pygments_lexer": "ipython3",
   "version": "3.5.6"
  }
 },
 "nbformat": 4,
 "nbformat_minor": 1
}
