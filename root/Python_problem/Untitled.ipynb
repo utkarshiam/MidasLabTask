{
 "cells": [
  {
   "cell_type": "markdown",
   "metadata": {},
   "source": [
    "# Python Problem: python script which can fetch all the tweets done by ​midas@IIITD​ twitter handle and dump the responses into JSONlines file.\n",
    "\n",
    "#### Importing the libraries\n",
    " \n",
    " - json: for saving and loading of data\n",
    " - requests: for sending GET request to Twitter API\n",
    " - requests_oauthlib: for authentication on Twitter API\n",
    " - BeautifulSoup for webScrapping\n",
    " - if needed_ tweepy to extract the tweets "
   ]
  },
  {
   "cell_type": "code",
   "execution_count": 7,
   "metadata": {
    "collapsed": false
   },
   "outputs": [],
   "source": [
    "import sys\n",
    "import json\n",
    "import requests\n",
    "from requests_oauthlib import OAuth1\n",
    "from bs4 import BeautifulSoup\n",
    "import tweepy"
   ]
  },
  {
   "cell_type": "markdown",
   "metadata": {},
   "source": [
    "#### Function to authenticate twitter user API"
   ]
  },
  {
   "cell_type": "code",
   "execution_count": 3,
   "metadata": {
    "collapsed": true
   },
   "outputs": [],
   "source": [
    "def twi_auth():\n",
    "\n",
    "    CONSUMER_KEY = \"KIrd3dd7BSB9UT5DNa15y2DG9\"\n",
    "    CONSUMER_SECRET = \"YDifo1C6RmIqP9aOlR9Mi83jtCm2AbXH099vCHz2ERZKgOz50s\"\n",
    "    ACCESS_KEY = \"1058038441877753856-WpIEfvaiznbh0FTkntAdpAJ3i1lR53\"\n",
    "    ACCESS_SECRET = \"VjUZI1jQYoHsRzovInyXL1tpyBg2NPIYID4WSX2MmCNZ8\"\n",
    "\n",
    "    auth = OAuth1(CONSUMER_KEY, CONSUMER_SECRET, ACCESS_KEY, ACCESS_SECRET)\n",
    "\n",
    "    return auth"
   ]
  },
  {
   "cell_type": "markdown",
   "metadata": {},
   "source": [
    "#### Function to get tweet count\n",
    "\n",
    " - Used Web Scrapping  to get total tweets from a particular twitter handle\n",
    " - Returns the tweet count"
   ]
  },
  {
   "cell_type": "code",
   "execution_count": 5,
   "metadata": {
    "collapsed": true
   },
   "outputs": [],
   "source": [
    "def twi_count(twi_handle):\n",
    "    \n",
    "    temp = requests.get('https://twitter.com/'+twi_handle)\n",
    "    bs = BeautifulSoup(temp.text,'lxml')\n",
    "    count=0\n",
    "    \n",
    "    try:\n",
    "        tweet_box = bs.find('li',{'class':'ProfileNav-item ProfileNav-item--tweets is-active'})\n",
    "        tweets= tweet_box.find('a').find('span',{'class':'ProfileNav-value'})\n",
    "        count=tweets.get('data-count')\n",
    "\n",
    "    except:\n",
    "        print('Account name not found...')\n",
    "        sys.exit(1)\n",
    "    \n",
    "    return count\n",
    "        "
   ]
  },
  {
   "cell_type": "markdown",
   "metadata": {},
   "source": [
    "#### Function to get the Tweets in a json response using tweepy\n",
    "\n",
    " - Passing the number of tweets in as the function argument so as to fetch All the tweets in real time."
   ]
  },
  {
   "cell_type": "code",
   "execution_count": 12,
   "metadata": {
    "collapsed": false
   },
   "outputs": [
    {
     "ename": "IndentationError",
     "evalue": "unexpected indent (<ipython-input-12-7b60122aa27c>, line 18)",
     "output_type": "error",
     "traceback": [
      "\u001b[0;36m  File \u001b[0;32m\"<ipython-input-12-7b60122aa27c>\"\u001b[0;36m, line \u001b[0;32m18\u001b[0m\n\u001b[0;31m    part_URL= 'https://api.twitter.com/1.1/statuses/user_timeline.json'\u001b[0m\n\u001b[0m    ^\u001b[0m\n\u001b[0;31mIndentationError\u001b[0m\u001b[0;31m:\u001b[0m unexpected indent\n"
     ]
    }
   ],
   "source": [
    "def twitterfeed(auth, no_of_tweets, twi_handle):\n",
    "   \n",
    "\n",
    "   \"\"\"\n",
    "   \n",
    "    auth = auth\n",
    "    api = tweepy.API(auth)\n",
    "    part_URL= \\\n",
    "        \"?screen_name={}&tweet_mode=extended&count={}\".format(\n",
    "            twi_handle, no_of_tweets)\n",
    "    qs = self.request.get('https://api.twitter.com/1.1/statuses/user_timeline.json'+ part_URL)\n",
    "    \n",
    "    search_results = api.search(q=qs, count=no_of_tweets, max_id=max_id)\n",
    "    json_str = json.dumps( search_results )\n",
    "    return json_str\n",
    "   \"\"\"\n",
    "   \n",
    "    part_URL= 'https://api.twitter.com/1.1/statuses/user_timeline.json'\n",
    "    URL = part_URL + \\\n",
    "        \"?screen_name={}&tweet_mode=extended&count={}\".format(\n",
    "            twi_handle, no_of_tweets)\n",
    "\n",
    "    try:\n",
    "        response = requests.get(URL, auth=auth)\n",
    "    except requests.exceptions.RequestException:\n",
    "        print('No internet connection')\n",
    "        sys.exit(1)\n",
    "\n",
    "    data = response.json()\n",
    "\n",
    "    return data\n",
    "    "
   ]
  }
 ],
 "metadata": {
  "anaconda-cloud": {},
  "kernelspec": {
   "display_name": "Python [default]",
   "language": "python",
   "name": "python3"
  },
  "language_info": {
   "codemirror_mode": {
    "name": "ipython",
    "version": 3
   },
   "file_extension": ".py",
   "mimetype": "text/x-python",
   "name": "python",
   "nbconvert_exporter": "python",
   "pygments_lexer": "ipython3",
   "version": "3.5.6"
  }
 },
 "nbformat": 4,
 "nbformat_minor": 1
}
