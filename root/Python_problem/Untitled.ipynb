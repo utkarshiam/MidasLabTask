{
 "cells": [
  {
   "cell_type": "markdown",
   "metadata": {},
   "source": [
    "# Python Problem: python script which can fetch all the tweets done by ​midas@IIITD​ twitter handle and dump the responses into JSONlines file.\n",
    "\n",
    "#### Importing the libraries\n",
    " \n",
    " - json: for saving and loading of data\n",
    " - requests: for sending GET request to Twitter API\n",
    " - requests_oauthlib: for authentication on Twitter API\n",
    " - BeautifulSoup for webScrapping"
   ]
  },
  {
   "cell_type": "code",
   "execution_count": 4,
   "metadata": {
    "collapsed": false
   },
   "outputs": [],
   "source": [
    "import sys\n",
    "import json\n",
    "import requests\n",
    "from requests_oauthlib import OAuth1\n",
    "from bs4 import BeautifulSoup"
   ]
  },
  {
   "cell_type": "markdown",
   "metadata": {},
   "source": [
    "#### Function to authenticate twitter user API"
   ]
  },
  {
   "cell_type": "code",
   "execution_count": 3,
   "metadata": {
    "collapsed": true
   },
   "outputs": [],
   "source": [
    "def twi_auth():\n",
    "\n",
    "    CONSUMER_KEY = \"KIrd3dd7BSB9UT5DNa15y2DG9\"\n",
    "    CONSUMER_SECRET = \"YDifo1C6RmIqP9aOlR9Mi83jtCm2AbXH099vCHz2ERZKgOz50s\"\n",
    "    ACCESS_KEY = \"1058038441877753856-WpIEfvaiznbh0FTkntAdpAJ3i1lR53\"\n",
    "    ACCESS_SECRET = \"VjUZI1jQYoHsRzovInyXL1tpyBg2NPIYID4WSX2MmCNZ8\"\n",
    "\n",
    "    auth = OAuth1(CONSUMER_KEY, CONSUMER_SECRET, ACCESS_KEY, ACCESS_SECRET)\n",
    "\n",
    "    return auth"
   ]
  },
  {
   "cell_type": "markdown",
   "metadata": {},
   "source": [
    "#### Function to get tweet count\n",
    "\n",
    " - Used Web Scrapping  to get total tweets from a particular twitter handle\n",
    " - Returns the tweet count"
   ]
  },
  {
   "cell_type": "code",
   "execution_count": null,
   "metadata": {
    "collapsed": true
   },
   "outputs": [],
   "source": [
    "def twi_count(twi_handle):\n",
    "    \n",
    "    temp = requests.get('https://twitter.com/'+twi_handle)\n",
    "    bs = BeautifulSoup(temp.text,'lxml')\n",
    "    count=0\n",
    "    \n",
    "    try:\n",
    "        tweet_box = bs.find('li',{'class':'ProfileNav-item ProfileNav-item--tweets is-active'})\n",
    "        tweets= tweet_box.find('a').find('span',{'class':'ProfileNav-value'})\n",
    "        count=tweets.get('data-count')\n",
    "\n",
    "    except:\n",
    "        print('Account name not found...')\n",
    "        sys.exit(1)\n",
    "    \n",
    "    return count\n",
    "        "
   ]
  }
 ],
 "metadata": {
  "anaconda-cloud": {},
  "kernelspec": {
   "display_name": "Python [default]",
   "language": "python",
   "name": "python3"
  },
  "language_info": {
   "codemirror_mode": {
    "name": "ipython",
    "version": 3
   },
   "file_extension": ".py",
   "mimetype": "text/x-python",
   "name": "python",
   "nbconvert_exporter": "python",
   "pygments_lexer": "ipython3",
   "version": "3.5.6"
  }
 },
 "nbformat": 4,
 "nbformat_minor": 1
}
